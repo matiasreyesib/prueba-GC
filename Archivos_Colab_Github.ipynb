{
  "nbformat": 4,
  "nbformat_minor": 0,
  "metadata": {
    "colab": {
      "name": "Archivos-Colab-Github.ipynb",
      "provenance": [],
      "toc_visible": true,
      "authorship_tag": "ABX9TyOvT3AmeYOhVyiTqF+MO3H+",
      "include_colab_link": true
    },
    "kernelspec": {
      "name": "python3",
      "display_name": "Python 3"
    }
  },
  "cells": [
    {
      "cell_type": "markdown",
      "metadata": {
        "id": "view-in-github",
        "colab_type": "text"
      },
      "source": [
        "<a href=\"https://colab.research.google.com/github/matiasreyesib/prueba-GC/blob/master/Archivos_Colab_Github.ipynb\" target=\"_parent\"><img src=\"https://colab.research.google.com/assets/colab-badge.svg\" alt=\"Open In Colab\"/></a>"
      ]
    },
    {
      "cell_type": "code",
      "metadata": {
        "id": "yj2uKOOJFasI"
      },
      "source": [
        "# Mi primer archivo en github"
      ],
      "execution_count": null,
      "outputs": []
    },
    {
      "cell_type": "code",
      "metadata": {
        "id": "2geNYuPMHVnt"
      },
      "source": [
        "#Mi segundo archivo en github"
      ],
      "execution_count": null,
      "outputs": []
    }
  ]
}